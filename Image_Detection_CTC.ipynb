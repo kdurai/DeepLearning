{
  "nbformat": 4,
  "nbformat_minor": 0,
  "metadata": {
    "colab": {
      "name": "Image_Detection_CTC.ipynb",
      "provenance": [],
      "collapsed_sections": [],
      "include_colab_link": true
    },
    "kernelspec": {
      "name": "python3",
      "display_name": "Python 3"
    },
    "accelerator": "GPU"
  },
  "cells": [
    {
      "cell_type": "markdown",
      "metadata": {
        "id": "view-in-github",
        "colab_type": "text"
      },
      "source": [
        "<a href=\"https://colab.research.google.com/github/kdurai/DeepLearning/blob/master/Image_Detection_CTC.ipynb\" target=\"_parent\"><img src=\"https://colab.research.google.com/assets/colab-badge.svg\" alt=\"Open In Colab\"/></a>"
      ]
    },
    {
      "cell_type": "code",
      "metadata": {
        "id": "s75jhXSU4EXo",
        "colab_type": "code",
        "colab": {}
      },
      "source": [
        "from itertools import groupby\n",
        "\n",
        "from torch.utils.data import Dataset, DataLoader\n",
        "from torchvision import transforms\n",
        "from torch.utils.data.dataset import random_split\n",
        "\n",
        "import matplotlib.pyplot as plt\n",
        "\n",
        "import torch\n",
        "import torch.nn as nn\n",
        "import torch.nn.functional as F\n",
        "import torch.optim as optim\n",
        "import glob\n",
        "from PIL import Image\n",
        "from pathlib import Path"
      ],
      "execution_count": 0,
      "outputs": []
    },
    {
      "cell_type": "code",
      "metadata": {
        "id": "8XjLYFttwRVS",
        "colab_type": "code",
        "colab": {}
      },
      "source": [
        "!rm -rf data\n",
        "!mkdir data"
      ],
      "execution_count": 0,
      "outputs": []
    },
    {
      "cell_type": "code",
      "metadata": {
        "id": "vf8NuLI24K_D",
        "colab_type": "code",
        "outputId": "92b45d67-91df-4bfa-9ba6-2563bf3cc848",
        "colab": {
          "base_uri": "https://localhost:8080/",
          "height": 118
        }
      },
      "source": [
        "!pip install captcha"
      ],
      "execution_count": 3,
      "outputs": [
        {
          "output_type": "stream",
          "text": [
            "Collecting captcha\n",
            "\u001b[?25l  Downloading https://files.pythonhosted.org/packages/90/fe/d4ddf1e6576073b5eaea76e9b2afa022c626212a30c871968480be3ccb7b/captcha-0.3-py3-none-any.whl (101kB)\n",
            "\r\u001b[K     |███▎                            | 10kB 30.5MB/s eta 0:00:01\r\u001b[K     |██████▌                         | 20kB 2.1MB/s eta 0:00:01\r\u001b[K     |█████████▊                      | 30kB 3.2MB/s eta 0:00:01\r\u001b[K     |█████████████                   | 40kB 2.1MB/s eta 0:00:01\r\u001b[K     |████████████████▏               | 51kB 2.4MB/s eta 0:00:01\r\u001b[K     |███████████████████▍            | 61kB 2.9MB/s eta 0:00:01\r\u001b[K     |██████████████████████▋         | 71kB 3.1MB/s eta 0:00:01\r\u001b[K     |█████████████████████████▉      | 81kB 3.4MB/s eta 0:00:01\r\u001b[K     |█████████████████████████████   | 92kB 3.8MB/s eta 0:00:01\r\u001b[K     |████████████████████████████████| 102kB 2.9MB/s \n",
            "\u001b[?25hRequirement already satisfied: Pillow in /usr/local/lib/python3.6/dist-packages (from captcha) (6.2.2)\n",
            "Installing collected packages: captcha\n",
            "Successfully installed captcha-0.3\n"
          ],
          "name": "stdout"
        }
      ]
    },
    {
      "cell_type": "code",
      "metadata": {
        "id": "ngLKWLWg4XbN",
        "colab_type": "code",
        "colab": {}
      },
      "source": [
        "from captcha.image import ImageCaptcha\n",
        "\n",
        "image = ImageCaptcha()\n",
        "\n",
        "for chars in range(0, 9984):\n",
        "    image.write(f'{chars:>04}', './data/'+f'{chars:>04}.png')"
      ],
      "execution_count": 0,
      "outputs": []
    },
    {
      "cell_type": "code",
      "metadata": {
        "id": "Yn0sLEZ94ayh",
        "colab_type": "code",
        "colab": {}
      },
      "source": [
        "class CaptchaDataset(Dataset):\n",
        "    \"\"\"CAPTCHA dataset.\"\"\"\n",
        "\n",
        "    def __init__(self, root_dir, transform=None):\n",
        "        self.root_dir = root_dir\n",
        "        self.image_paths = list(Path(root_dir).glob('*'))\n",
        "        self.transform = transform\n",
        "\n",
        "    def __getitem__(self, index):\n",
        "        image = Image.open(self.image_paths[index])\n",
        "\n",
        "        if self.transform:\n",
        "            image = self.transform(image)\n",
        "        \n",
        "        print('self.image_paths[index]', self.image_paths[index])\n",
        "        label_sequence = [int(c) for c in self.image_paths[index].stem]\n",
        "        print('label_sequence:', label_sequence)\n",
        "        print('image:', image)\n",
        "        return (image, torch.tensor(label_sequence))\n",
        "    \n",
        "    def __len__(self):\n",
        "        return len(self.image_paths)"
      ],
      "execution_count": 0,
      "outputs": []
    },
    {
      "cell_type": "code",
      "metadata": {
        "id": "MZhmYvTwNMzA",
        "colab_type": "code",
        "outputId": "b518c2ea-e06d-4a4e-fd15-b1d684874908",
        "colab": {
          "base_uri": "https://localhost:8080/",
          "height": 212
        }
      },
      "source": [
        "dataset_test = CaptchaDataset(root_dir='./data/', transform=transform)\n",
        "dataloader_test = DataLoader(dataset_test, batch_size=2, shuffle=False)\n",
        "data_iterator_test = iter(dataloader_test)\n",
        "inputs, targets = data_iterator_test.next()"
      ],
      "execution_count": 6,
      "outputs": [
        {
          "output_type": "error",
          "ename": "NameError",
          "evalue": "ignored",
          "traceback": [
            "\u001b[0;31m---------------------------------------------------------------------------\u001b[0m",
            "\u001b[0;31mNameError\u001b[0m                                 Traceback (most recent call last)",
            "\u001b[0;32m<ipython-input-6-e9677c2dafbb>\u001b[0m in \u001b[0;36m<module>\u001b[0;34m()\u001b[0m\n\u001b[0;32m----> 1\u001b[0;31m \u001b[0mdataset_test\u001b[0m \u001b[0;34m=\u001b[0m \u001b[0mCaptchaDataset\u001b[0m\u001b[0;34m(\u001b[0m\u001b[0mroot_dir\u001b[0m\u001b[0;34m=\u001b[0m\u001b[0;34m'./data/'\u001b[0m\u001b[0;34m,\u001b[0m \u001b[0mtransform\u001b[0m\u001b[0;34m=\u001b[0m\u001b[0mtransform\u001b[0m\u001b[0;34m)\u001b[0m\u001b[0;34m\u001b[0m\u001b[0;34m\u001b[0m\u001b[0m\n\u001b[0m\u001b[1;32m      2\u001b[0m \u001b[0mdataloader_test\u001b[0m \u001b[0;34m=\u001b[0m \u001b[0mDataLoader\u001b[0m\u001b[0;34m(\u001b[0m\u001b[0mdataset_test\u001b[0m\u001b[0;34m,\u001b[0m \u001b[0mbatch_size\u001b[0m\u001b[0;34m=\u001b[0m\u001b[0;36m2\u001b[0m\u001b[0;34m,\u001b[0m \u001b[0mshuffle\u001b[0m\u001b[0;34m=\u001b[0m\u001b[0;32mFalse\u001b[0m\u001b[0;34m)\u001b[0m\u001b[0;34m\u001b[0m\u001b[0;34m\u001b[0m\u001b[0m\n\u001b[1;32m      3\u001b[0m \u001b[0mdata_iterator_test\u001b[0m \u001b[0;34m=\u001b[0m \u001b[0miter\u001b[0m\u001b[0;34m(\u001b[0m\u001b[0mdataloader_test\u001b[0m\u001b[0;34m)\u001b[0m\u001b[0;34m\u001b[0m\u001b[0;34m\u001b[0m\u001b[0m\n\u001b[1;32m      4\u001b[0m \u001b[0minputs\u001b[0m\u001b[0;34m,\u001b[0m \u001b[0mtargets\u001b[0m \u001b[0;34m=\u001b[0m \u001b[0mdata_iterator_test\u001b[0m\u001b[0;34m.\u001b[0m\u001b[0mnext\u001b[0m\u001b[0;34m(\u001b[0m\u001b[0;34m)\u001b[0m\u001b[0;34m\u001b[0m\u001b[0;34m\u001b[0m\u001b[0m\n",
            "\u001b[0;31mNameError\u001b[0m: name 'transform' is not defined"
          ]
        }
      ]
    },
    {
      "cell_type": "code",
      "metadata": {
        "id": "NPuTE-jtYraN",
        "colab_type": "code",
        "colab": {}
      },
      "source": [
        "i = 1\n",
        "\n",
        "image = inputs[i,0,:,:]\n",
        "\n",
        "print(f\"Target: {''.join(map(str, targets[i].numpy()))}\")\n",
        "plt.imshow(image)"
      ],
      "execution_count": 0,
      "outputs": []
    },
    {
      "cell_type": "code",
      "metadata": {
        "id": "Bphy9l1ayXYl",
        "colab_type": "code",
        "colab": {}
      },
      "source": [
        "transform = transforms.Compose([\n",
        "    transforms.Grayscale(),\n",
        "    transforms.ToTensor(),\n",
        "])\n",
        "\n",
        "dataset = CaptchaDataset(root_dir='./data/', transform=transform)\n",
        "\n",
        "dataloader = DataLoader(dataset, batch_size=10000)\n",
        "\n",
        "for batch_index, (inputs, labels) in enumerate(dataloader):\n",
        "    print(f'Mean: {inputs.mean()}, Variance: {inputs.std()}')"
      ],
      "execution_count": 0,
      "outputs": []
    },
    {
      "cell_type": "code",
      "metadata": {
        "id": "Yl4QNCJsyfhr",
        "colab_type": "code",
        "outputId": "3892812b-63fb-4c6c-cd1e-183a68c6657f",
        "colab": {
          "base_uri": "https://localhost:8080/",
          "height": 34
        }
      },
      "source": [
        "transform = transforms.Compose([\n",
        "    transforms.Grayscale(),\n",
        "    transforms.ToTensor(),\n",
        "    transforms.Normalize((0.89099,), (0.14788,)),\n",
        "])\n",
        "\n",
        "dataset = CaptchaDataset(root_dir='./data/', transform=transform)\n",
        "\n",
        "print(len(dataset))\n",
        "#train_dataset, test_dataset = random_split(dataset, [128*64, 28*64])  # total images: 9984\n",
        "train_dataset, test_dataset = random_split(dataset, [2, 9982])  # total images: 9984\n",
        "\n",
        "train_dataloader = DataLoader(train_dataset, batch_size=2, shuffle=True)\n",
        "test_dataloader = DataLoader(test_dataset, batch_size=64, shuffle=False)"
      ],
      "execution_count": 9,
      "outputs": [
        {
          "output_type": "stream",
          "text": [
            "9984\n"
          ],
          "name": "stdout"
        }
      ]
    },
    {
      "cell_type": "code",
      "metadata": {
        "id": "ohUDqgTPyov2",
        "colab_type": "code",
        "colab": {}
      },
      "source": [
        "device = torch.device('cuda:0' if torch.cuda.is_available() else 'cpu')"
      ],
      "execution_count": 0,
      "outputs": []
    },
    {
      "cell_type": "code",
      "metadata": {
        "id": "O5BgT7oazLRe",
        "colab_type": "code",
        "outputId": "4113a9fc-78ed-4cae-8434-2ce77b37562b",
        "colab": {
          "base_uri": "https://localhost:8080/",
          "height": 34
        }
      },
      "source": [
        "print(device)"
      ],
      "execution_count": 11,
      "outputs": [
        {
          "output_type": "stream",
          "text": [
            "cuda:0\n"
          ],
          "name": "stdout"
        }
      ]
    },
    {
      "cell_type": "code",
      "metadata": {
        "id": "mO_eJ3OuzMyw",
        "colab_type": "code",
        "colab": {}
      },
      "source": [
        "class StackedLSTM(nn.Module):\n",
        "    def __init__(self, input_size=60, output_size=11, hidden_size=512, num_layers=2):\n",
        "        super(StackedLSTM, self).__init__()\n",
        "        self.hidden_size = hidden_size\n",
        "        self.num_layers = num_layers\n",
        "        \n",
        "        self.dropout = nn.Dropout()\n",
        "        self.fc = nn.Linear(hidden_size, output_size)\n",
        "        self.lstm = nn.LSTM(input_size, hidden_size, num_layers)\n",
        "        \n",
        "    def forward(self, inputs, hidden):\n",
        "        batch_size, seq_len, input_size = inputs.shape\n",
        "        outputs, hidden = self.lstm(inputs, hidden)\n",
        "        outputs = self.dropout(outputs)\n",
        "        outputs = torch.stack([self.fc(outputs[i]) for i in range(width)])\n",
        "        outputs = F.log_softmax(outputs, dim=2)\n",
        "        return outputs, hidden\n",
        "    \n",
        "    def init_hidden(self, batch_size):\n",
        "        weight = next(self.parameters()).data \n",
        "        return (weight.new(self.num_layers, batch_size, self.hidden_size).zero_(),\n",
        "                weight.new(self.num_layers, batch_size, self.hidden_size).zero_())\n",
        "    \n",
        "net = StackedLSTM().to(device)"
      ],
      "execution_count": 0,
      "outputs": []
    },
    {
      "cell_type": "code",
      "metadata": {
        "id": "a5ysld0FzO1T",
        "colab_type": "code",
        "colab": {}
      },
      "source": [
        "criterion = nn.CTCLoss(blank=10)\n",
        "optimizer = optim.SGD(net.parameters(), lr=0.01, momentum=0.9)"
      ],
      "execution_count": 0,
      "outputs": []
    },
    {
      "cell_type": "code",
      "metadata": {
        "id": "-TYUYR9VzSDL",
        "colab_type": "code",
        "colab": {}
      },
      "source": [
        "BLANK_LABEL = 10"
      ],
      "execution_count": 0,
      "outputs": []
    },
    {
      "cell_type": "code",
      "metadata": {
        "id": "pXqvJiTtzTm2",
        "colab_type": "code",
        "colab": {
          "base_uri": "https://localhost:8080/",
          "height": 756
        },
        "outputId": "f990e32b-8863-40fb-e7da-7ca4c11dccb6"
      },
      "source": [
        "net.train()  # set network to training phase\n",
        "    \n",
        "epochs = 1\n",
        "batch_size = 2\n",
        "\n",
        "# for each pass of the training dataset\n",
        "for epoch in range(epochs):\n",
        "    train_loss, train_correct, train_total = 0, 0, 0\n",
        "    \n",
        "    h = net.init_hidden(batch_size)\n",
        "    \n",
        "    # for each batch of training examples\n",
        "    for batch_index, (inputs, targets) in enumerate(train_dataloader):\n",
        "        inputs, targets = inputs.to(device), targets.to(device)\n",
        "        h = tuple([each.data for each in h])\n",
        "        \n",
        "        batch_size, channels, height, width = inputs.shape\n",
        "        \n",
        "        print('inputs.shape1:', inputs.shape)\n",
        "        # reshape inputs: NxCxHxW -> WxNx(HxC)\n",
        "        inputs = (inputs\n",
        "                  .permute(3, 0, 2, 1)\n",
        "                  .contiguous()\n",
        "                  .view((width, batch_size, -1)))\n",
        "        print('inputs.shape2:', inputs.shape)\n",
        "        optimizer.zero_grad()  # zero the parameter gradients\n",
        "        outputs, h = net(inputs, h)  # forward pass\n",
        "\n",
        "        # compare output with ground truth\n",
        "        input_lengths = torch.IntTensor(batch_size).fill_(width)\n",
        "        target_lengths = torch.IntTensor([len(t) for t in targets])\n",
        "        print('outputs: ', outputs)\n",
        "        print('targets: ', targets)\n",
        "        print('input_lengths: ', input_lengths)\n",
        "        print('target_lengths: ', target_lengths)\n",
        "        loss = criterion(outputs, targets, input_lengths, target_lengths)\n",
        "\n",
        "        loss.backward()  # backpropagation\n",
        "        nn.utils.clip_grad_norm_(net.parameters(), 10)  # clip gradients\n",
        "        optimizer.step()  # update network weights\n",
        "        \n",
        "        # record statistics\n",
        "        prob, max_index = torch.max(outputs, dim=2)\n",
        "        train_loss += loss.item()\n",
        "        train_total += len(targets)\n",
        "\n",
        "        for i in range(batch_size):\n",
        "            raw_pred = list(max_index[:, i].cpu().numpy())\n",
        "            pred = [c for c, _ in groupby(raw_pred) if c != BLANK_LABEL]\n",
        "            target = list(targets[i].cpu().numpy())\n",
        "            if pred == target:\n",
        "                train_correct += 1\n",
        "\n",
        "        # print statistics every 10 batches\n",
        "        if (batch_index + 1) % 10 == 0:\n",
        "            print(f'Epoch {epoch + 1}/{epochs}, ' +\n",
        "                  f'Batch {batch_index + 1}/{len(train_dataloader)}, ' +\n",
        "                  f'Train Loss: {(train_loss/1):.5f}, ' +\n",
        "                  f'Train Accuracy: {(train_correct/train_total):.5f}')\n",
        "            \n",
        "            train_loss, train_correct, train_total = 0, 0, 0"
      ],
      "execution_count": 15,
      "outputs": [
        {
          "output_type": "stream",
          "text": [
            "self.image_paths[index] data/0542.png\n",
            "label_sequence: [0, 5, 4, 2]\n",
            "image: tensor([[[0.4189, 0.4189, 0.4189,  ..., 0.4189, 0.4189, 0.4189],\n",
            "         [0.4189, 0.4189, 0.4189,  ..., 0.4189, 0.4189, 0.4189],\n",
            "         [0.4189, 0.4189, 0.4189,  ..., 0.4189, 0.4189, 0.4189],\n",
            "         ...,\n",
            "         [0.4189, 0.4189, 0.4189,  ..., 0.4189, 0.4189, 0.4189],\n",
            "         [0.4189, 0.4189, 0.4189,  ..., 0.4189, 0.4189, 0.4189],\n",
            "         [0.4189, 0.4189, 0.4189,  ..., 0.4189, 0.4189, 0.4189]]])\n",
            "self.image_paths[index] data/1475.png\n",
            "label_sequence: [1, 4, 7, 5]\n",
            "image: tensor([[[0.5780, 0.5780, 0.5780,  ..., 0.5780, 0.5780, 0.5780],\n",
            "         [0.5780, 0.5780, 0.5780,  ..., 0.5780, 0.5780, 0.5780],\n",
            "         [0.5780, 0.5780, 0.5780,  ..., 0.5780, 0.5780, 0.5780],\n",
            "         ...,\n",
            "         [0.5780, 0.5780, 0.5780,  ..., 0.5780, 0.5780, 0.5780],\n",
            "         [0.5780, 0.5780, 0.5780,  ..., 0.5780, 0.5780, 0.5780],\n",
            "         [0.5780, 0.5780, 0.5780,  ..., 0.5780, 0.5780, 0.5780]]])\n",
            "inputs.shape1: torch.Size([2, 1, 60, 160])\n",
            "inputs.shape2: torch.Size([160, 2, 60])\n",
            "outputs:  tensor([[[-2.3896, -2.4440, -2.4146,  ..., -2.4072, -2.3960, -2.3632],\n",
            "         [-2.3892, -2.4369, -2.4007,  ..., -2.4187, -2.3942, -2.3606]],\n",
            "\n",
            "        [[-2.4017, -2.4456, -2.4061,  ..., -2.4190, -2.3949, -2.3567],\n",
            "         [-2.4172, -2.4460, -2.4030,  ..., -2.4210, -2.4042, -2.3539]],\n",
            "\n",
            "        [[-2.4042, -2.4440, -2.4113,  ..., -2.4052, -2.3984, -2.3605],\n",
            "         [-2.3970, -2.4477, -2.4043,  ..., -2.4057, -2.4158, -2.3582]],\n",
            "\n",
            "        ...,\n",
            "\n",
            "        [[-2.3989, -2.4264, -2.4323,  ..., -2.4011, -2.4345, -2.3616],\n",
            "         [-2.4254, -2.4548, -2.3960,  ..., -2.4133, -2.3905, -2.3373]],\n",
            "\n",
            "        [[-2.3957, -2.4690, -2.4156,  ..., -2.3833, -2.4316, -2.3672],\n",
            "         [-2.3950, -2.4617, -2.4250,  ..., -2.4086, -2.3970, -2.3548]],\n",
            "\n",
            "        [[-2.3843, -2.4586, -2.4376,  ..., -2.3940, -2.4079, -2.3415],\n",
            "         [-2.3799, -2.4765, -2.4235,  ..., -2.4031, -2.3971, -2.3518]]],\n",
            "       device='cuda:0', grad_fn=<LogSoftmaxBackward>)\n",
            "targets:  tensor([[0, 5, 4, 2],\n",
            "        [1, 4, 7, 5]], device='cuda:0')\n",
            "input_lengths:  tensor([160, 160], dtype=torch.int32)\n",
            "target_lengths:  tensor([4, 4], dtype=torch.int32)\n"
          ],
          "name": "stdout"
        }
      ]
    },
    {
      "cell_type": "code",
      "metadata": {
        "id": "_-Gy18ypzXQd",
        "colab_type": "code",
        "outputId": "88bee609-1382-4270-fa5a-d6843f8b1ebc",
        "colab": {
          "base_uri": "https://localhost:8080/",
          "height": 34
        }
      },
      "source": [
        "h = net.init_hidden(batch_size)  # init hidden state\n",
        "\n",
        "net.eval()\n",
        "\n",
        "test_loss = 0\n",
        "test_correct = 0\n",
        "test_total = len(test_dataloader.dataset)\n",
        "\n",
        "with torch.no_grad():  # detach gradients so network runs faster\n",
        "    \n",
        "    # for each batch of testing examples\n",
        "    for batch_index, (inputs, targets) in enumerate(test_dataloader):\n",
        "        inputs, targets = inputs.to(device), targets.to(device)\n",
        "        h = tuple([each.data for each in h])\n",
        "        batch_size, channels, height, width = inputs.shape\n",
        "        \n",
        "        # reshape inputs: NxCxHxW -> WxNx(HxC)\n",
        "        inputs = (inputs\n",
        "                  .permute(3, 0, 2, 1)\n",
        "                  .contiguous()\n",
        "                  .view((width, batch_size, -1)))\n",
        "\n",
        "        outputs, h = net(inputs, h)  # forward pass\n",
        "        \n",
        "        # record loss\n",
        "        input_lengths = torch.IntTensor(batch_size).fill_(width)\n",
        "        target_lengths = torch.IntTensor([len(t) for t in targets])\n",
        "        loss = criterion(outputs, targets, input_lengths, target_lengths)\n",
        "        test_loss += loss.item()\n",
        "        \n",
        "        # compare prediction with ground truth\n",
        "        prob, max_index = torch.max(outputs, dim=2)\n",
        "        \n",
        "        for i in range(batch_size):\n",
        "            raw_pred = list(max_index[:, i].cpu().numpy())\n",
        "            pred = [c for c, _ in groupby(raw_pred) if c != BLANK_LABEL]\n",
        "            target = list(targets[i].cpu().numpy())\n",
        "            if pred == target:\n",
        "                test_correct += 1\n",
        "                \n",
        "print(f'Test Loss: {(test_loss/len(test_dataloader)):.5f}, ' +\n",
        "      f'Test Accuracy: {(test_correct/test_total):.5f} ' +\n",
        "      f'({test_correct}/{test_total})')"
      ],
      "execution_count": 0,
      "outputs": [
        {
          "output_type": "stream",
          "text": [
            "Test Loss: 0.13772, Test Accuracy: 0.90737 (1626/1792)\n"
          ],
          "name": "stdout"
        }
      ]
    },
    {
      "cell_type": "code",
      "metadata": {
        "id": "lLgCS_lT2T2D",
        "colab_type": "code",
        "outputId": "ccbd1bf8-6208-4358-feb3-237d9a68adae",
        "colab": {
          "base_uri": "https://localhost:8080/",
          "height": 210
        }
      },
      "source": [
        "data_iterator = iter(test_dataloader)\n",
        "inputs, targets = data_iterator.next()\n",
        "\n",
        "i = 1\n",
        "\n",
        "image = inputs[i,0,:,:]\n",
        "\n",
        "print(f\"Target: {''.join(map(str, targets[i].numpy()))}\")\n",
        "plt.imshow(image)"
      ],
      "execution_count": 0,
      "outputs": [
        {
          "output_type": "stream",
          "text": [
            "Target: 5728\n"
          ],
          "name": "stdout"
        },
        {
          "output_type": "execute_result",
          "data": {
            "text/plain": [
              "<matplotlib.image.AxesImage at 0x7f0254b54c50>"
            ]
          },
          "metadata": {
            "tags": []
          },
          "execution_count": 15
        },
        {
          "output_type": "display_data",
          "data": {
            "image/png": "[encoded data removed]",
            "text/plain": [
              "<Figure size 432x288 with 1 Axes>"
            ]
          },
          "metadata": {
            "tags": []
          }
        }
      ]
    },
    {
      "cell_type": "code",
      "metadata": {
        "id": "jkbEbQCG2h3I",
        "colab_type": "code",
        "outputId": "5233c6ae-d259-4562-b12b-f912b635a2e0",
        "colab": {
          "base_uri": "https://localhost:8080/",
          "height": 50
        }
      },
      "source": [
        "inputs = inputs.to(device)\n",
        "\n",
        "batch_size, channels, height, width = inputs.shape\n",
        "h = net.init_hidden(batch_size)\n",
        "\n",
        "inputs = (inputs\n",
        "          .permute(3, 0, 2, 1)\n",
        "          .contiguous()\n",
        "          .view((width, batch_size, -1)))\n",
        "\n",
        "# get prediction\n",
        "outputs, h = net(inputs, h)  # forward pass\n",
        "prob, max_index = torch.max(outputs, dim=2)\n",
        "raw_pred = list(max_index[:, i].cpu().numpy())\n",
        "\n",
        "# print raw prediction with BLANK_LABEL replaced with \"-\"\n",
        "print('Raw Prediction: ' + ''.join([str(c) if c != BLANK_LABEL else '-' for c in raw_pred]))\n",
        "\n",
        "pred = [str(c) for c, _ in groupby(raw_pred) if c != BLANK_LABEL]\n",
        "print(f\"Prediction: {''.join(pred)}\")"
      ],
      "execution_count": 0,
      "outputs": [
        {
          "output_type": "stream",
          "text": [
            "Raw Prediction: ------------------------------------555----------------------------------777-------------22-------------------------88------------------------------------------\n",
            "Prediction: 5728\n"
          ],
          "name": "stdout"
        }
      ]
    },
    {
      "cell_type": "code",
      "metadata": {
        "id": "KdGZhd6wUiA4",
        "colab_type": "code",
        "outputId": "e5843f4b-4f8c-4813-f6a6-20be0bd229d6",
        "colab": {
          "base_uri": "https://localhost:8080/",
          "height": 193
        }
      },
      "source": [
        "line_mask = [(a == BLANK_LABEL) & (b != BLANK_LABEL) for a, b in zip(raw_pred, raw_pred[1:])]\n",
        "indices = [i for i, x in enumerate(line_mask) if x]\n",
        "\n",
        "annotated_image = image.clone()\n",
        "for index in indices:\n",
        "    annotated_image[:, index] = 0\n",
        "    annotated_image[:, index+1] = -2\n",
        "\n",
        "plt.imshow(annotated_image)"
      ],
      "execution_count": 0,
      "outputs": [
        {
          "output_type": "execute_result",
          "data": {
            "text/plain": [
              "<matplotlib.image.AxesImage at 0x7f02540d4518>"
            ]
          },
          "metadata": {
            "tags": []
          },
          "execution_count": 17
        },
        {
          "output_type": "display_data",
          "data": {
            "image/png": "[encoded data removed]",
            "text/plain": [
              "<Figure size 432x288 with 1 Axes>"
            ]
          },
          "metadata": {
            "tags": []
          }
        }
      ]
    },
    {
      "cell_type": "code",
      "metadata": {
        "id": "t9tdx3eGUqqr",
        "colab_type": "code",
        "colab": {}
      },
      "source": [
        ""
      ],
      "execution_count": 0,
      "outputs": []
    }
  ]
}