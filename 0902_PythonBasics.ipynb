{
  "nbformat": 4,
  "nbformat_minor": 0,
  "metadata": {
    "colab": {
      "name": "0902_PythonBasics.ipynb",
      "version": "0.3.2",
      "provenance": [],
      "include_colab_link": true
    },
    "kernelspec": {
      "name": "python3",
      "display_name": "Python 3"
    }
  },
  "cells": [
    {
      "cell_type": "markdown",
      "metadata": {
        "id": "view-in-github",
        "colab_type": "text"
      },
      "source": [
        "<a href=\"https://colab.research.google.com/github/kdurai/DeepLearning/blob/master/0902_PythonBasics.ipynb\" target=\"_parent\"><img src=\"https://colab.research.google.com/assets/colab-badge.svg\" alt=\"Open In Colab\"/></a>"
      ]
    },
    {
      "metadata": {
        "id": "_itCCvraAjck",
        "colab_type": "text"
      },
      "cell_type": "markdown",
      "source": [
        "# Numpy"
      ]
    },
    {
      "metadata": {
        "id": "FLKJZhNPAlkz",
        "colab_type": "code",
        "colab": {}
      },
      "cell_type": "code",
      "source": [
        "import numpy as np"
      ],
      "execution_count": 0,
      "outputs": []
    },
    {
      "metadata": {
        "id": "P2FWmOcHAswQ",
        "colab_type": "code",
        "colab": {}
      },
      "cell_type": "code",
      "source": [
        "X = np.random.random((4,5))"
      ],
      "execution_count": 0,
      "outputs": []
    },
    {
      "metadata": {
        "id": "jK2ekAPWAyhC",
        "colab_type": "code",
        "outputId": "d5c3bbc1-1cac-4a22-9a91-c9980c548ba1",
        "colab": {
          "base_uri": "https://localhost:8080/",
          "height": 85
        }
      },
      "cell_type": "code",
      "source": [
        "print(X)"
      ],
      "execution_count": 0,
      "outputs": [
        {
          "output_type": "stream",
          "text": [
            "[[0.68661676 0.19073723 0.14866839 0.3606624  0.32195468]\n",
            " [0.73859311 0.14586632 0.77155014 0.38925867 0.81439745]\n",
            " [0.67318367 0.37931863 0.77274612 0.69237032 0.46839852]\n",
            " [0.61272021 0.72821843 0.60681083 0.45803787 0.67577478]]\n"
          ],
          "name": "stdout"
        }
      ]
    },
    {
      "metadata": {
        "id": "AD2Uo91dA0GB",
        "colab_type": "code",
        "outputId": "31aa00f9-8358-450d-84fd-0960d99e3165",
        "colab": {
          "base_uri": "https://localhost:8080/",
          "height": 34
        }
      },
      "cell_type": "code",
      "source": [
        "type(X)"
      ],
      "execution_count": 0,
      "outputs": [
        {
          "output_type": "execute_result",
          "data": {
            "text/plain": [
              "numpy.ndarray"
            ]
          },
          "metadata": {
            "tags": []
          },
          "execution_count": 17
        }
      ]
    },
    {
      "metadata": {
        "id": "BqU6tW29A2gT",
        "colab_type": "code",
        "colab": {}
      },
      "cell_type": "code",
      "source": [
        "X = np.eye(4,4)"
      ],
      "execution_count": 0,
      "outputs": []
    },
    {
      "metadata": {
        "id": "tWoQ4m2FA6NR",
        "colab_type": "code",
        "outputId": "3795260c-9272-4cf8-ea56-04f7bd8e9caa",
        "colab": {
          "base_uri": "https://localhost:8080/",
          "height": 85
        }
      },
      "cell_type": "code",
      "source": [
        "print(X)"
      ],
      "execution_count": 0,
      "outputs": [
        {
          "output_type": "stream",
          "text": [
            "[[1. 0. 0. 0.]\n",
            " [0. 1. 0. 0.]\n",
            " [0. 0. 1. 0.]\n",
            " [0. 0. 0. 1.]]\n"
          ],
          "name": "stdout"
        }
      ]
    },
    {
      "metadata": {
        "id": "RpRyvToAqnRN",
        "colab_type": "code",
        "outputId": "3ede38a3-2ba3-4bcb-eb73-30a706eb1598",
        "colab": {
          "base_uri": "https://localhost:8080/",
          "height": 34
        }
      },
      "cell_type": "code",
      "source": [
        "type(X)"
      ],
      "execution_count": 0,
      "outputs": [
        {
          "output_type": "execute_result",
          "data": {
            "text/plain": [
              "numpy.ndarray"
            ]
          },
          "metadata": {
            "tags": []
          },
          "execution_count": 20
        }
      ]
    },
    {
      "metadata": {
        "id": "5LEIODqwqqcB",
        "colab_type": "code",
        "colab": {}
      },
      "cell_type": "code",
      "source": [
        "X = np.random.random((4,5))"
      ],
      "execution_count": 0,
      "outputs": []
    },
    {
      "metadata": {
        "id": "4OY42Gc0qtLY",
        "colab_type": "code",
        "outputId": "3c89af01-8c01-4ca1-8e8b-b63d1e87ff0e",
        "colab": {
          "base_uri": "https://localhost:8080/",
          "height": 85
        }
      },
      "cell_type": "code",
      "source": [
        "print(X)"
      ],
      "execution_count": 0,
      "outputs": [
        {
          "output_type": "stream",
          "text": [
            "[[0.02539781 0.32176672 0.68399628 0.8518847  0.37152616]\n",
            " [0.81249907 0.66502042 0.72180878 0.44672362 0.37761843]\n",
            " [0.1432316  0.80446128 0.32377581 0.10712138 0.21068192]\n",
            " [0.70932943 0.97569377 0.18915102 0.8130177  0.83698792]]\n"
          ],
          "name": "stdout"
        }
      ]
    },
    {
      "metadata": {
        "id": "GLIb7BPyz1Ro",
        "colab_type": "code",
        "outputId": "d813f14d-3e53-4462-9796-cf87f5728808",
        "colab": {
          "base_uri": "https://localhost:8080/",
          "height": 34
        }
      },
      "cell_type": "code",
      "source": [
        "X.ndim"
      ],
      "execution_count": 0,
      "outputs": [
        {
          "output_type": "execute_result",
          "data": {
            "text/plain": [
              "2"
            ]
          },
          "metadata": {
            "tags": []
          },
          "execution_count": 30
        }
      ]
    },
    {
      "metadata": {
        "id": "pUgNyE-3qvk7",
        "colab_type": "code",
        "outputId": "2b8c2bd6-a463-4c95-ad0f-7b4a1349fc34",
        "colab": {
          "base_uri": "https://localhost:8080/",
          "height": 34
        }
      },
      "cell_type": "code",
      "source": [
        "type(X)"
      ],
      "execution_count": 0,
      "outputs": [
        {
          "output_type": "execute_result",
          "data": {
            "text/plain": [
              "numpy.ndarray"
            ]
          },
          "metadata": {
            "tags": []
          },
          "execution_count": 23
        }
      ]
    },
    {
      "metadata": {
        "id": "iV4OG3t2A7T_",
        "colab_type": "code",
        "outputId": "5e82f40b-40ee-49aa-d1ab-6b3ef155876e",
        "colab": {
          "base_uri": "https://localhost:8080/",
          "height": 357
        }
      },
      "cell_type": "code",
      "source": [
        "X = X.reshape(20,1)\n",
        "print(X)"
      ],
      "execution_count": 0,
      "outputs": [
        {
          "output_type": "stream",
          "text": [
            "[[0.07445243]\n",
            " [0.20261424]\n",
            " [0.61919077]\n",
            " [0.65927727]\n",
            " [0.2846352 ]\n",
            " [0.42199938]\n",
            " [0.37949174]\n",
            " [0.82806238]\n",
            " [0.27417376]\n",
            " [0.96183533]\n",
            " [0.08206947]\n",
            " [0.06081694]\n",
            " [0.59438231]\n",
            " [0.40690136]\n",
            " [0.90557654]\n",
            " [0.92194406]\n",
            " [0.26083582]\n",
            " [0.7472816 ]\n",
            " [0.18893853]\n",
            " [0.44892473]]\n"
          ],
          "name": "stdout"
        }
      ]
    },
    {
      "metadata": {
        "id": "15TlnMrczBs7",
        "colab_type": "code",
        "outputId": "4f00719f-49ea-4cf4-c65d-e9152a01209f",
        "colab": {
          "base_uri": "https://localhost:8080/",
          "height": 34
        }
      },
      "cell_type": "code",
      "source": [
        "X.ndim"
      ],
      "execution_count": 0,
      "outputs": [
        {
          "output_type": "execute_result",
          "data": {
            "text/plain": [
              "2"
            ]
          },
          "metadata": {
            "tags": []
          },
          "execution_count": 27
        }
      ]
    },
    {
      "metadata": {
        "id": "ez4xBjKGBNa5",
        "colab_type": "code",
        "outputId": "d7b9e06c-87ea-4432-eb20-711c11caf4d8",
        "colab": {
          "base_uri": "https://localhost:8080/",
          "height": 34
        }
      },
      "cell_type": "code",
      "source": [
        "A = np.arange(5)\n",
        "print(A)"
      ],
      "execution_count": 0,
      "outputs": [
        {
          "output_type": "stream",
          "text": [
            "[0 1 2 3 4]\n"
          ],
          "name": "stdout"
        }
      ]
    },
    {
      "metadata": {
        "id": "uHaFzOseq90c",
        "colab_type": "code",
        "outputId": "6501f9e6-3b11-4438-bde7-f00be23d30cb",
        "colab": {
          "base_uri": "https://localhost:8080/",
          "height": 34
        }
      },
      "cell_type": "code",
      "source": [
        "type(A)"
      ],
      "execution_count": 0,
      "outputs": [
        {
          "output_type": "execute_result",
          "data": {
            "text/plain": [
              "numpy.ndarray"
            ]
          },
          "metadata": {
            "tags": []
          },
          "execution_count": 13
        }
      ]
    },
    {
      "metadata": {
        "id": "QFJkg7TQBTwJ",
        "colab_type": "code",
        "colab": {}
      },
      "cell_type": "code",
      "source": [
        "B = np.arange(5)"
      ],
      "execution_count": 0,
      "outputs": []
    },
    {
      "metadata": {
        "id": "YBdbsXulBWvC",
        "colab_type": "code",
        "outputId": "6531ba47-bc1b-4a2a-e76c-6fdbec5d3b6c",
        "colab": {
          "base_uri": "https://localhost:8080/",
          "height": 34
        }
      },
      "cell_type": "code",
      "source": [
        "print(B)"
      ],
      "execution_count": 0,
      "outputs": [
        {
          "output_type": "stream",
          "text": [
            "[0 1 2 3 4]\n"
          ],
          "name": "stdout"
        }
      ]
    },
    {
      "metadata": {
        "id": "27S8VHknBYNP",
        "colab_type": "code",
        "outputId": "4471c740-d6ee-4ae0-953b-b9ac34d45e05",
        "colab": {
          "base_uri": "https://localhost:8080/",
          "height": 34
        }
      },
      "cell_type": "code",
      "source": [
        "C = A + B\n",
        "D = A - B\n",
        "E = A * B\n",
        "print (C,D,E)"
      ],
      "execution_count": 0,
      "outputs": [
        {
          "output_type": "stream",
          "text": [
            "[0 2 4 6 8] [0 0 0 0 0] [ 0  1  4  9 16]\n"
          ],
          "name": "stdout"
        }
      ]
    },
    {
      "metadata": {
        "id": "dD0Xik-tBgAD",
        "colab_type": "code",
        "outputId": "902be15d-e7fb-421c-b6bd-e72c4c80e2c8",
        "colab": {
          "base_uri": "https://localhost:8080/",
          "height": 34
        }
      },
      "cell_type": "code",
      "source": [
        "print (A, A+1)"
      ],
      "execution_count": 0,
      "outputs": [
        {
          "output_type": "stream",
          "text": [
            "[0 1 2 3 4] [1 2 3 4 5]\n"
          ],
          "name": "stdout"
        }
      ]
    },
    {
      "metadata": {
        "id": "HEv646_JBkOF",
        "colab_type": "code",
        "outputId": "6ae2b19a-164e-4f9c-d506-dc51cacf38cd",
        "colab": {
          "base_uri": "https://localhost:8080/",
          "height": 51
        }
      },
      "cell_type": "code",
      "source": [
        "X = np.floor(np.random.random((2,3)) * 10)\n",
        "print(X)"
      ],
      "execution_count": 0,
      "outputs": [
        {
          "output_type": "stream",
          "text": [
            "[[1. 3. 5.]\n",
            " [2. 7. 0.]]\n"
          ],
          "name": "stdout"
        }
      ]
    },
    {
      "metadata": {
        "id": "Cm-rm3CABxLm",
        "colab_type": "code",
        "colab": {}
      },
      "cell_type": "code",
      "source": [
        "u = [1, 2, 3]\n",
        "v = [1, 2, 3]"
      ],
      "execution_count": 0,
      "outputs": []
    },
    {
      "metadata": {
        "id": "CgQBpejFB9VO",
        "colab_type": "code",
        "outputId": "4dd139e5-2d25-4456-cdec-c9c04fc59a28",
        "colab": {
          "base_uri": "https://localhost:8080/",
          "height": 34
        }
      },
      "cell_type": "code",
      "source": [
        "np.inner(u,v)"
      ],
      "execution_count": 0,
      "outputs": [
        {
          "output_type": "execute_result",
          "data": {
            "text/plain": [
              "14"
            ]
          },
          "metadata": {
            "tags": []
          },
          "execution_count": 15
        }
      ]
    },
    {
      "metadata": {
        "id": "i81dP_6pCQod",
        "colab_type": "code",
        "outputId": "4a3c77ad-25b4-4253-dcb5-04bdb1d90001",
        "colab": {
          "base_uri": "https://localhost:8080/",
          "height": 68
        }
      },
      "cell_type": "code",
      "source": [
        "np.outer(u,v)"
      ],
      "execution_count": 0,
      "outputs": [
        {
          "output_type": "execute_result",
          "data": {
            "text/plain": [
              "array([[1, 2, 3],\n",
              "       [2, 4, 6],\n",
              "       [3, 6, 9]])"
            ]
          },
          "metadata": {
            "tags": []
          },
          "execution_count": 16
        }
      ]
    },
    {
      "metadata": {
        "id": "e3w1RVdRCSd9",
        "colab_type": "code",
        "outputId": "a3ea67c9-96ae-469a-bf90-02ae0f27fd1d",
        "colab": {
          "base_uri": "https://localhost:8080/",
          "height": 102
        }
      },
      "cell_type": "code",
      "source": [
        "A = np.ones((2,3))\n",
        "B = np.ones((3,2))\n",
        "print(A)\n",
        "print(B)"
      ],
      "execution_count": 0,
      "outputs": [
        {
          "output_type": "stream",
          "text": [
            "[[1. 1. 1.]\n",
            " [1. 1. 1.]]\n",
            "[[1. 1.]\n",
            " [1. 1.]\n",
            " [1. 1.]]\n"
          ],
          "name": "stdout"
        }
      ]
    },
    {
      "metadata": {
        "id": "PRYE2jDICZg5",
        "colab_type": "code",
        "outputId": "5497b3dc-2323-4fb9-add6-ba6e6dd6f1cf",
        "colab": {
          "base_uri": "https://localhost:8080/",
          "height": 51
        }
      },
      "cell_type": "code",
      "source": [
        "np.dot(A,B)"
      ],
      "execution_count": 0,
      "outputs": [
        {
          "output_type": "execute_result",
          "data": {
            "text/plain": [
              "array([[3., 3.],\n",
              "       [3., 3.]])"
            ]
          },
          "metadata": {
            "tags": []
          },
          "execution_count": 18
        }
      ]
    },
    {
      "metadata": {
        "id": "f0bFGt94CcUB",
        "colab_type": "code",
        "outputId": "674123b1-79a3-4615-a715-8f2b24e7dcb1",
        "colab": {
          "base_uri": "https://localhost:8080/",
          "height": 34
        }
      },
      "cell_type": "code",
      "source": [
        "A.sum()"
      ],
      "execution_count": 0,
      "outputs": [
        {
          "output_type": "execute_result",
          "data": {
            "text/plain": [
              "6.0"
            ]
          },
          "metadata": {
            "tags": []
          },
          "execution_count": 19
        }
      ]
    },
    {
      "metadata": {
        "id": "RofaphN-CjnQ",
        "colab_type": "code",
        "outputId": "f8eed0ca-0c10-494c-987e-7eb7b22fc54d",
        "colab": {
          "base_uri": "https://localhost:8080/",
          "height": 34
        }
      },
      "cell_type": "code",
      "source": [
        "A.sum(axis = 0)"
      ],
      "execution_count": 0,
      "outputs": [
        {
          "output_type": "execute_result",
          "data": {
            "text/plain": [
              "array([2., 2., 2.])"
            ]
          },
          "metadata": {
            "tags": []
          },
          "execution_count": 20
        }
      ]
    },
    {
      "metadata": {
        "id": "Yvwf95zoCna2",
        "colab_type": "code",
        "outputId": "b36f5426-bcba-4ae9-9d13-06247ee87a45",
        "colab": {
          "base_uri": "https://localhost:8080/",
          "height": 34
        }
      },
      "cell_type": "code",
      "source": [
        "A.sum(axis = 1)"
      ],
      "execution_count": 0,
      "outputs": [
        {
          "output_type": "execute_result",
          "data": {
            "text/plain": [
              "array([3., 3.])"
            ]
          },
          "metadata": {
            "tags": []
          },
          "execution_count": 21
        }
      ]
    },
    {
      "metadata": {
        "id": "ghXeatE-Czjm",
        "colab_type": "text"
      },
      "cell_type": "markdown",
      "source": [
        "# Plotting"
      ]
    },
    {
      "metadata": {
        "id": "L1f7gaLLC3BJ",
        "colab_type": "code",
        "colab": {}
      },
      "cell_type": "code",
      "source": [
        "import numpy as np\n",
        "import matplotlib.pyplot as plt"
      ],
      "execution_count": 0,
      "outputs": []
    },
    {
      "metadata": {
        "id": "YE81cUtaC-Sk",
        "colab_type": "code",
        "colab": {}
      },
      "cell_type": "code",
      "source": [
        "X = np.random.random((10,1))"
      ],
      "execution_count": 0,
      "outputs": []
    },
    {
      "metadata": {
        "id": "zZ9siEoSDCUQ",
        "colab_type": "code",
        "outputId": "e9a54024-5858-4c0a-fb5d-b3643e2bb5ee",
        "colab": {
          "base_uri": "https://localhost:8080/",
          "height": 187
        }
      },
      "cell_type": "code",
      "source": [
        "print(X)"
      ],
      "execution_count": 0,
      "outputs": [
        {
          "output_type": "stream",
          "text": [
            "[[0.36014713]\n",
            " [0.00298086]\n",
            " [0.10985702]\n",
            " [0.84290947]\n",
            " [0.04407113]\n",
            " [0.14492278]\n",
            " [0.09870267]\n",
            " [0.42041213]\n",
            " [0.09155463]\n",
            " [0.72198659]]\n"
          ],
          "name": "stdout"
        }
      ]
    },
    {
      "metadata": {
        "id": "MFZDQba5DOdF",
        "colab_type": "code",
        "outputId": "402639e9-57fb-4513-bac5-23f2f5498ae3",
        "colab": {
          "base_uri": "https://localhost:8080/",
          "height": 286
        }
      },
      "cell_type": "code",
      "source": [
        "plt.plot(X)"
      ],
      "execution_count": 0,
      "outputs": [
        {
          "output_type": "execute_result",
          "data": {
            "text/plain": [
              "[<matplotlib.lines.Line2D at 0x7fc443ca1fd0>]"
            ]
          },
          "metadata": {
            "tags": []
          },
          "execution_count": 25
        },
        {
          "output_type": "display_data",
          "data": {
            "image/png": "[encoded data removed]",
            "text/plain": [
              "<Figure size 432x288 with 1 Axes>"
            ]
          },
          "metadata": {
            "tags": []
          }
        }
      ]
    },
    {
      "metadata": {
        "id": "e4J20Yn7DSXv",
        "colab_type": "code",
        "outputId": "157488cc-f105-40a8-e774-b749a6cb3e3b",
        "colab": {
          "base_uri": "https://localhost:8080/",
          "height": 286
        }
      },
      "cell_type": "code",
      "source": [
        "plt.plot(X,'+-')"
      ],
      "execution_count": 0,
      "outputs": [
        {
          "output_type": "execute_result",
          "data": {
            "text/plain": [
              "[<matplotlib.lines.Line2D at 0x7fc441c2a630>]"
            ]
          },
          "metadata": {
            "tags": []
          },
          "execution_count": 26
        },
        {
          "output_type": "display_data",
          "data": {
            "image/png": "[encoded data removed]",
            "text/plain": [
              "<Figure size 432x288 with 1 Axes>"
            ]
          },
          "metadata": {
            "tags": []
          }
        }
      ]
    },
    {
      "metadata": {
        "id": "BOpOrIuLDZy7",
        "colab_type": "code",
        "outputId": "c39487a9-4af6-4b5f-cb5d-dc01d68073dd",
        "colab": {
          "base_uri": "https://localhost:8080/",
          "height": 269
        }
      },
      "cell_type": "code",
      "source": [
        "x = np.linspace(0,100,100)\n",
        "#print(x)\n",
        "#type(x)\n",
        "y = np.power(x,2)\n",
        "plt.plot(x,y,'*')\n",
        "plt.show()"
      ],
      "execution_count": 0,
      "outputs": [
        {
          "output_type": "display_data",
          "data": {
            "image/png": "[encoded data removed]",
            "text/plain": [
              "<Figure size 432x288 with 1 Axes>"
            ]
          },
          "metadata": {
            "tags": []
          }
        }
      ]
    },
    {
      "metadata": {
        "id": "UhDOz4RVDr_m",
        "colab_type": "code",
        "colab": {}
      },
      "cell_type": "code",
      "source": [
        "import seaborn as sns"
      ],
      "execution_count": 0,
      "outputs": []
    },
    {
      "metadata": {
        "id": "zuyjyh4aEObY",
        "colab_type": "code",
        "colab": {}
      },
      "cell_type": "code",
      "source": [
        "sns.set()"
      ],
      "execution_count": 0,
      "outputs": []
    },
    {
      "metadata": {
        "id": "czuj9NHgEQff",
        "colab_type": "code",
        "outputId": "b57ab258-9369-47f1-812a-51d4c3096b7e",
        "colab": {
          "base_uri": "https://localhost:8080/",
          "height": 291
        }
      },
      "cell_type": "code",
      "source": [
        "sns.lineplot(x,y)"
      ],
      "execution_count": 0,
      "outputs": [
        {
          "output_type": "execute_result",
          "data": {
            "text/plain": [
              "<matplotlib.axes._subplots.AxesSubplot at 0x7fc441b44ef0>"
            ]
          },
          "metadata": {
            "tags": []
          },
          "execution_count": 30
        },
        {
          "output_type": "display_data",
          "data": {
            "image/png": "[encoded data removed]",
            "text/plain": [
              "<Figure size 432x288 with 1 Axes>"
            ]
          },
          "metadata": {
            "tags": []
          }
        }
      ]
    },
    {
      "metadata": {
        "id": "1ce35F8KESjM",
        "colab_type": "code",
        "outputId": "b3fb9d3b-022a-408d-e8a2-5cda320cf9d4",
        "colab": {
          "base_uri": "https://localhost:8080/",
          "height": 445
        }
      },
      "cell_type": "code",
      "source": [
        "!pip install seaborn==0.9.0"
      ],
      "execution_count": 0,
      "outputs": [
        {
          "output_type": "stream",
          "text": [
            "Collecting seaborn==0.9.0\n",
            "\u001b[?25l  Downloading https://files.pythonhosted.org/packages/a8/76/220ba4420459d9c4c9c9587c6ce607bf56c25b3d3d2de62056efe482dadc/seaborn-0.9.0-py3-none-any.whl (208kB)\n",
            "\u001b[K    100% |████████████████████████████████| 215kB 24.9MB/s \n",
            "\u001b[?25hRequirement already satisfied: numpy>=1.9.3 in /usr/local/lib/python3.6/dist-packages (from seaborn==0.9.0) (1.14.6)\n",
            "Requirement already satisfied: matplotlib>=1.4.3 in /usr/local/lib/python3.6/dist-packages (from seaborn==0.9.0) (3.0.2)\n",
            "Requirement already satisfied: scipy>=0.14.0 in /usr/local/lib/python3.6/dist-packages (from seaborn==0.9.0) (1.1.0)\n",
            "Requirement already satisfied: pandas>=0.15.2 in /usr/local/lib/python3.6/dist-packages (from seaborn==0.9.0) (0.22.0)\n",
            "Requirement already satisfied: kiwisolver>=1.0.1 in /usr/local/lib/python3.6/dist-packages (from matplotlib>=1.4.3->seaborn==0.9.0) (1.0.1)\n",
            "Requirement already satisfied: pyparsing!=2.0.4,!=2.1.2,!=2.1.6,>=2.0.1 in /usr/local/lib/python3.6/dist-packages (from matplotlib>=1.4.3->seaborn==0.9.0) (2.3.1)\n",
            "Requirement already satisfied: cycler>=0.10 in /usr/local/lib/python3.6/dist-packages (from matplotlib>=1.4.3->seaborn==0.9.0) (0.10.0)\n",
            "Requirement already satisfied: python-dateutil>=2.1 in /usr/local/lib/python3.6/dist-packages (from matplotlib>=1.4.3->seaborn==0.9.0) (2.5.3)\n",
            "Requirement already satisfied: pytz>=2011k in /usr/local/lib/python3.6/dist-packages (from pandas>=0.15.2->seaborn==0.9.0) (2018.9)\n",
            "Requirement already satisfied: setuptools in /usr/local/lib/python3.6/dist-packages (from kiwisolver>=1.0.1->matplotlib>=1.4.3->seaborn==0.9.0) (40.8.0)\n",
            "Requirement already satisfied: six in /usr/local/lib/python3.6/dist-packages (from cycler>=0.10->matplotlib>=1.4.3->seaborn==0.9.0) (1.11.0)\n",
            "Installing collected packages: seaborn\n",
            "  Found existing installation: seaborn 0.7.1\n",
            "    Uninstalling seaborn-0.7.1:\n",
            "      Successfully uninstalled seaborn-0.7.1\n",
            "Successfully installed seaborn-0.9.0\n"
          ],
          "name": "stdout"
        },
        {
          "output_type": "display_data",
          "data": {
            "application/vnd.colab-display-data+json": {
              "pip_warning": {
                "packages": [
                  "seaborn"
                ]
              }
            }
          },
          "metadata": {
            "tags": []
          }
        }
      ]
    },
    {
      "metadata": {
        "id": "qdqRXcaNEWs6",
        "colab_type": "code",
        "outputId": "ef04de50-c7bc-471a-eb4d-29f931a343e2",
        "colab": {
          "base_uri": "https://localhost:8080/",
          "height": 377
        }
      },
      "cell_type": "code",
      "source": [
        "!wget https://www.dropbox.com/s/w94odi4aq1k44lf/mobile_cleaned.csv"
      ],
      "execution_count": 0,
      "outputs": [
        {
          "output_type": "stream",
          "text": [
            "--2019-02-18 04:54:07--  https://www.dropbox.com/s/w94odi4aq1k44lf/mobile_cleaned.csv\n",
            "Resolving www.dropbox.com (www.dropbox.com)... 162.125.1.1, 2620:100:6016:1::a27d:101\n",
            "Connecting to www.dropbox.com (www.dropbox.com)|162.125.1.1|:443... connected.\n",
            "HTTP request sent, awaiting response... 301 Moved Permanently\n",
            "Location: /s/raw/w94odi4aq1k44lf/mobile_cleaned.csv [following]\n",
            "--2019-02-18 04:54:07--  https://www.dropbox.com/s/raw/w94odi4aq1k44lf/mobile_cleaned.csv\n",
            "Reusing existing connection to www.dropbox.com:443.\n",
            "HTTP request sent, awaiting response... 302 Found\n",
            "Location: https://ucc344645f8faa6a8e94cfeb4e61.dl.dropboxusercontent.com/cd/0/inline/Abi0w2SzJMDWVp-uo2x0QtCzYB4Oy2VWSWyOubp5dNolWawxSAMUZNy68cACGy9ycmtohrjnYZS-ds1UMWljjpZHk6XlZ8aUgtY1FP_8Z7WqnFmalrcvKiDPW1MSBsMz7vc/file# [following]\n",
            "--2019-02-18 04:54:07--  https://ucc344645f8faa6a8e94cfeb4e61.dl.dropboxusercontent.com/cd/0/inline/Abi0w2SzJMDWVp-uo2x0QtCzYB4Oy2VWSWyOubp5dNolWawxSAMUZNy68cACGy9ycmtohrjnYZS-ds1UMWljjpZHk6XlZ8aUgtY1FP_8Z7WqnFmalrcvKiDPW1MSBsMz7vc/file\n",
            "Resolving ucc344645f8faa6a8e94cfeb4e61.dl.dropboxusercontent.com (ucc344645f8faa6a8e94cfeb4e61.dl.dropboxusercontent.com)... 162.125.1.6, 2620:100:6016:6::a27d:106\n",
            "Connecting to ucc344645f8faa6a8e94cfeb4e61.dl.dropboxusercontent.com (ucc344645f8faa6a8e94cfeb4e61.dl.dropboxusercontent.com)|162.125.1.6|:443... connected.\n",
            "HTTP request sent, awaiting response... 200 OK\n",
            "Length: 14044 (14K) [text/plain]\n",
            "Saving to: ‘mobile_cleaned.csv’\n",
            "\n",
            "\rmobile_cleaned.csv    0%[                    ]       0  --.-KB/s               \rmobile_cleaned.csv  100%[===================>]  13.71K  --.-KB/s    in 0s      \n",
            "\n",
            "2019-02-18 04:54:07 (318 MB/s) - ‘mobile_cleaned.csv’ saved [14044/14044]\n",
            "\n"
          ],
          "name": "stdout"
        }
      ]
    },
    {
      "metadata": {
        "id": "EO_NPhFKn_gi",
        "colab_type": "code",
        "outputId": "01bc0b33-b68d-4366-df11-9ce3ac86113d",
        "colab": {
          "base_uri": "https://localhost:8080/",
          "height": 34
        }
      },
      "cell_type": "code",
      "source": [
        "!ls"
      ],
      "execution_count": 0,
      "outputs": [
        {
          "output_type": "stream",
          "text": [
            "mobile_cleaned.csv  sample_data\n"
          ],
          "name": "stdout"
        }
      ]
    },
    {
      "metadata": {
        "id": "XdH9daZ9oLA8",
        "colab_type": "code",
        "outputId": "eb76f3bc-fb69-4b2d-e1c1-d75b4519bf47",
        "colab": {
          "base_uri": "https://localhost:8080/",
          "height": 253
        }
      },
      "cell_type": "code",
      "source": [
        "import pandas as pd\n",
        "data = pd.read_csv('mobile_cleaned.csv')\n",
        "data.head()"
      ],
      "execution_count": 0,
      "outputs": [
        {
          "output_type": "execute_result",
          "data": {
            "text/html": [
              "<div>\n",
              "<style scoped>\n",
              "    .dataframe tbody tr th:only-of-type {\n",
              "        vertical-align: middle;\n",
              "    }\n",
              "\n",
              "    .dataframe tbody tr th {\n",
              "        vertical-align: top;\n",
              "    }\n",
              "\n",
              "    .dataframe thead th {\n",
              "        text-align: right;\n",
              "    }\n",
              "</style>\n",
              "<table border=\"1\" class=\"dataframe\">\n",
              "  <thead>\n",
              "    <tr style=\"text-align: right;\">\n",
              "      <th></th>\n",
              "      <th>sim_type</th>\n",
              "      <th>aperture</th>\n",
              "      <th>gpu_rank</th>\n",
              "      <th>weight</th>\n",
              "      <th>stand_by_time</th>\n",
              "      <th>processor_frequency</th>\n",
              "      <th>thickness</th>\n",
              "      <th>flash_type</th>\n",
              "      <th>front_camera_resolution</th>\n",
              "      <th>auto_focus</th>\n",
              "      <th>...</th>\n",
              "      <th>micro_sd_slot</th>\n",
              "      <th>screen_pixel_density</th>\n",
              "      <th>water_proof_rate</th>\n",
              "      <th>phone_width</th>\n",
              "      <th>expandable_memory</th>\n",
              "      <th>version</th>\n",
              "      <th>usb_type</th>\n",
              "      <th>battery_capacity</th>\n",
              "      <th>processor_rank</th>\n",
              "      <th>is_liked</th>\n",
              "    </tr>\n",
              "  </thead>\n",
              "  <tbody>\n",
              "    <tr>\n",
              "      <th>0</th>\n",
              "      <td>0</td>\n",
              "      <td>12</td>\n",
              "      <td>55</td>\n",
              "      <td>155.0</td>\n",
              "      <td>250</td>\n",
              "      <td>1.3</td>\n",
              "      <td>10.5</td>\n",
              "      <td>5</td>\n",
              "      <td>2.00</td>\n",
              "      <td>0</td>\n",
              "      <td>...</td>\n",
              "      <td>4</td>\n",
              "      <td>2</td>\n",
              "      <td>3</td>\n",
              "      <td>67.8</td>\n",
              "      <td>64.0</td>\n",
              "      <td>5</td>\n",
              "      <td>3</td>\n",
              "      <td>2000</td>\n",
              "      <td>125</td>\n",
              "      <td>1</td>\n",
              "    </tr>\n",
              "    <tr>\n",
              "      <th>1</th>\n",
              "      <td>0</td>\n",
              "      <td>1</td>\n",
              "      <td>55</td>\n",
              "      <td>132.0</td>\n",
              "      <td>300</td>\n",
              "      <td>1.3</td>\n",
              "      <td>10.6</td>\n",
              "      <td>5</td>\n",
              "      <td>0.30</td>\n",
              "      <td>1</td>\n",
              "      <td>...</td>\n",
              "      <td>4</td>\n",
              "      <td>4</td>\n",
              "      <td>6</td>\n",
              "      <td>64.0</td>\n",
              "      <td>32.0</td>\n",
              "      <td>5</td>\n",
              "      <td>3</td>\n",
              "      <td>2000</td>\n",
              "      <td>165</td>\n",
              "      <td>1</td>\n",
              "    </tr>\n",
              "    <tr>\n",
              "      <th>2</th>\n",
              "      <td>0</td>\n",
              "      <td>9</td>\n",
              "      <td>55</td>\n",
              "      <td>142.0</td>\n",
              "      <td>329</td>\n",
              "      <td>1.5</td>\n",
              "      <td>8.5</td>\n",
              "      <td>5</td>\n",
              "      <td>2.00</td>\n",
              "      <td>3</td>\n",
              "      <td>...</td>\n",
              "      <td>4</td>\n",
              "      <td>9</td>\n",
              "      <td>6</td>\n",
              "      <td>72.0</td>\n",
              "      <td>32.0</td>\n",
              "      <td>6</td>\n",
              "      <td>3</td>\n",
              "      <td>2500</td>\n",
              "      <td>164</td>\n",
              "      <td>0</td>\n",
              "    </tr>\n",
              "    <tr>\n",
              "      <th>3</th>\n",
              "      <td>0</td>\n",
              "      <td>8</td>\n",
              "      <td>55</td>\n",
              "      <td>152.0</td>\n",
              "      <td>385</td>\n",
              "      <td>1.3</td>\n",
              "      <td>8.0</td>\n",
              "      <td>5</td>\n",
              "      <td>2.00</td>\n",
              "      <td>3</td>\n",
              "      <td>...</td>\n",
              "      <td>4</td>\n",
              "      <td>1</td>\n",
              "      <td>3</td>\n",
              "      <td>75.1</td>\n",
              "      <td>32.0</td>\n",
              "      <td>6</td>\n",
              "      <td>3</td>\n",
              "      <td>3000</td>\n",
              "      <td>165</td>\n",
              "      <td>1</td>\n",
              "    </tr>\n",
              "    <tr>\n",
              "      <th>4</th>\n",
              "      <td>1</td>\n",
              "      <td>1</td>\n",
              "      <td>55</td>\n",
              "      <td>234.0</td>\n",
              "      <td>385</td>\n",
              "      <td>1.3</td>\n",
              "      <td>7.9</td>\n",
              "      <td>5</td>\n",
              "      <td>1.92</td>\n",
              "      <td>3</td>\n",
              "      <td>...</td>\n",
              "      <td>4</td>\n",
              "      <td>1</td>\n",
              "      <td>6</td>\n",
              "      <td>91.0</td>\n",
              "      <td>32.0</td>\n",
              "      <td>6</td>\n",
              "      <td>3</td>\n",
              "      <td>3000</td>\n",
              "      <td>165</td>\n",
              "      <td>0</td>\n",
              "    </tr>\n",
              "  </tbody>\n",
              "</table>\n",
              "<p>5 rows × 40 columns</p>\n",
              "</div>"
            ],
            "text/plain": [
              "   sim_type  aperture  gpu_rank  weight  stand_by_time  processor_frequency  \\\n",
              "0         0        12        55   155.0            250                  1.3   \n",
              "1         0         1        55   132.0            300                  1.3   \n",
              "2         0         9        55   142.0            329                  1.5   \n",
              "3         0         8        55   152.0            385                  1.3   \n",
              "4         1         1        55   234.0            385                  1.3   \n",
              "\n",
              "   thickness  flash_type  front_camera_resolution  auto_focus    ...     \\\n",
              "0       10.5           5                     2.00           0    ...      \n",
              "1       10.6           5                     0.30           1    ...      \n",
              "2        8.5           5                     2.00           3    ...      \n",
              "3        8.0           5                     2.00           3    ...      \n",
              "4        7.9           5                     1.92           3    ...      \n",
              "\n",
              "   micro_sd_slot  screen_pixel_density  water_proof_rate  phone_width  \\\n",
              "0              4                     2                 3         67.8   \n",
              "1              4                     4                 6         64.0   \n",
              "2              4                     9                 6         72.0   \n",
              "3              4                     1                 3         75.1   \n",
              "4              4                     1                 6         91.0   \n",
              "\n",
              "   expandable_memory  version  usb_type  battery_capacity  processor_rank  \\\n",
              "0               64.0        5         3              2000             125   \n",
              "1               32.0        5         3              2000             165   \n",
              "2               32.0        6         3              2500             164   \n",
              "3               32.0        6         3              3000             165   \n",
              "4               32.0        6         3              3000             165   \n",
              "\n",
              "   is_liked  \n",
              "0         1  \n",
              "1         1  \n",
              "2         0  \n",
              "3         1  \n",
              "4         0  \n",
              "\n",
              "[5 rows x 40 columns]"
            ]
          },
          "metadata": {
            "tags": []
          },
          "execution_count": 33
        }
      ]
    },
    {
      "metadata": {
        "id": "oDMqkQ569gAz",
        "colab_type": "code",
        "colab": {}
      },
      "cell_type": "code",
      "source": [
        "print(data['thickness'])"
      ],
      "execution_count": 0,
      "outputs": []
    },
    {
      "metadata": {
        "id": "n3fM1ZatoXPx",
        "colab_type": "code",
        "outputId": "0b702908-0ab0-4f37-9807-e0f2ef1a3b9e",
        "colab": {
          "base_uri": "https://localhost:8080/",
          "height": 291
        }
      },
      "cell_type": "code",
      "source": [
        "ax = sns.scatterplot(x='stand_by_time', y='battery_capacity', data=data)"
      ],
      "execution_count": 0,
      "outputs": [
        {
          "output_type": "display_data",
          "data": {
            "image/png": "[encoded data removed]",
            "text/plain": [
              "<Figure size 432x288 with 1 Axes>"
            ]
          },
          "metadata": {
            "tags": []
          }
        }
      ]
    },
    {
      "metadata": {
        "id": "ipOx3RORonf_",
        "colab_type": "code",
        "outputId": "2bd207e1-0de4-4cc5-8f30-91c8ba8be64d",
        "colab": {
          "base_uri": "https://localhost:8080/",
          "height": 291
        }
      },
      "cell_type": "code",
      "source": [
        "ax = sns.scatterplot(x='stand_by_time', y='battery_capacity', hue='thickness', data=data)"
      ],
      "execution_count": 0,
      "outputs": [
        {
          "output_type": "display_data",
          "data": {
            "image/png": "[encoded data removed]",
            "text/plain": [
              "<Figure size 432x288 with 1 Axes>"
            ]
          },
          "metadata": {
            "tags": []
          }
        }
      ]
    },
    {
      "metadata": {
        "id": "kycECZw3pP8K",
        "colab_type": "code",
        "outputId": "93d1d61a-f199-4857-9a8f-e31d9fe8afe5",
        "colab": {
          "base_uri": "https://localhost:8080/",
          "height": 291
        }
      },
      "cell_type": "code",
      "source": [
        "ax = sns.distplot(data['stand_by_time'])\n",
        "#sns.distplot(data['weight'])\n",
        "#data.groupby(['weight']).mean()\n",
        "#data['weight'].max()\n",
        "#type(data)\n",
        "#np.sort(data['stand_by_time'])\n",
        "#data['stand_by_time']"
      ],
      "execution_count": 0,
      "outputs": [
        {
          "output_type": "display_data",
          "data": {
            "image/png": "[encoded data removed]",
            "text/plain": [
              "<Figure size 432x288 with 1 Axes>"
            ]
          },
          "metadata": {
            "tags": []
          }
        }
      ]
    },
    {
      "metadata": {
        "id": "XT4ATZfspYpj",
        "colab_type": "code",
        "outputId": "50f8b014-644e-418d-ad66-c39b895bf641",
        "colab": {
          "base_uri": "https://localhost:8080/",
          "height": 291
        }
      },
      "cell_type": "code",
      "source": [
        "ax = sns.distplot(data['stand_by_time'],kde=False, rug=True)"
      ],
      "execution_count": 0,
      "outputs": [
        {
          "output_type": "display_data",
          "data": {
            "image/png": "[encoded data removed]",
            "text/plain": [
              "<Figure size 432x288 with 1 Axes>"
            ]
          },
          "metadata": {
            "tags": []
          }
        }
      ]
    },
    {
      "metadata": {
        "id": "v9iu-vhpuXqK",
        "colab_type": "code",
        "outputId": "25bf3991-a350-47ba-a7ac-387d986f35e3",
        "colab": {
          "base_uri": "https://localhost:8080/",
          "height": 291
        }
      },
      "cell_type": "code",
      "source": [
        "ax = sns.distplot(data['stand_by_time'],kde=False, rug=True, bins=20)"
      ],
      "execution_count": 0,
      "outputs": [
        {
          "output_type": "display_data",
          "data": {
            "image/png": "[encoded data removed]",
            "text/plain": [
              "<Figure size 432x288 with 1 Axes>"
            ]
          },
          "metadata": {
            "tags": []
          }
        }
      ]
    },
    {
      "metadata": {
        "id": "NdMqUlnKvThH",
        "colab_type": "code",
        "outputId": "7e438a98-73bf-44bb-e1fc-2a842396f75d",
        "colab": {
          "base_uri": "https://localhost:8080/",
          "height": 291
        }
      },
      "cell_type": "code",
      "source": [
        "ax = sns.boxplot(x='is_liked', y='battery_capacity', data=data)"
      ],
      "execution_count": 0,
      "outputs": [
        {
          "output_type": "display_data",
          "data": {
            "image/png": "[encoded data removed]",
            "text/plain": [
              "<Figure size 432x288 with 1 Axes>"
            ]
          },
          "metadata": {
            "tags": []
          }
        }
      ]
    },
    {
      "metadata": {
        "id": "RdF7WV7_vbct",
        "colab_type": "code",
        "outputId": "a7045c6f-474d-45ac-ddee-42a20f371de1",
        "colab": {
          "base_uri": "https://localhost:8080/",
          "height": 291
        }
      },
      "cell_type": "code",
      "source": [
        "ax = sns.boxplot(x = 'expandable_memory', y = 'price', data=data)"
      ],
      "execution_count": 0,
      "outputs": [
        {
          "output_type": "display_data",
          "data": {
            "image/png": "[encoded data removed]",
            "text/plain": [
              "<Figure size 432x288 with 1 Axes>"
            ]
          },
          "metadata": {
            "tags": []
          }
        }
      ]
    },
    {
      "metadata": {
        "id": "A9_axJAlvzxB",
        "colab_type": "code",
        "outputId": "3e458fcb-39db-488e-fb4a-89f517b0438d",
        "colab": {
          "base_uri": "https://localhost:8080/",
          "height": 357
        }
      },
      "cell_type": "code",
      "source": [
        "uniform_data = np.random.rand(10,12)\n",
        "print(uniform_data)"
      ],
      "execution_count": 0,
      "outputs": [
        {
          "output_type": "stream",
          "text": [
            "[[0.13872155 0.08740737 0.53024278 0.88244723 0.20121931 0.03898063\n",
            "  0.19725261 0.32674713 0.43598933 0.25674601 0.98899862 0.24055717]\n",
            " [0.37110341 0.09556919 0.77539495 0.66710772 0.12307912 0.76416032\n",
            "  0.15321803 0.65280865 0.66261423 0.97500666 0.81093614 0.88774178]\n",
            " [0.67703236 0.39375168 0.57983982 0.51319566 0.83744222 0.056511\n",
            "  0.06312727 0.67012738 0.29513208 0.48067388 0.81702245 0.78728055]\n",
            " [0.56005333 0.91971437 0.09934289 0.32572528 0.93240275 0.25173172\n",
            "  0.85289517 0.3497554  0.19758999 0.85941966 0.26559358 0.51629727]\n",
            " [0.31556857 0.9648521  0.28285164 0.1552369  0.34662875 0.77380932\n",
            "  0.56336455 0.68018452 0.76468778 0.02432415 0.27946114 0.43558777]\n",
            " [0.37814418 0.1672628  0.74956089 0.71747812 0.48222415 0.31100521\n",
            "  0.2195712  0.35478894 0.57076667 0.8771333  0.57781412 0.20501302]\n",
            " [0.50949824 0.8327222  0.36784348 0.91973651 0.0402031  0.99707097\n",
            "  0.672169   0.85842676 0.25187339 0.68345335 0.24151242 0.59552606]\n",
            " [0.91031328 0.00674586 0.66579525 0.21955801 0.90320887 0.72444303\n",
            "  0.19138261 0.8586669  0.06114381 0.21622867 0.66868489 0.36323912]\n",
            " [0.12391126 0.15334517 0.98717197 0.90221245 0.09586936 0.79251463\n",
            "  0.54591965 0.54146671 0.43379571 0.57899129 0.79009704 0.38385957]\n",
            " [0.70029312 0.78669243 0.65206568 0.42871169 0.66124951 0.12215423\n",
            "  0.65762568 0.06104389 0.81149666 0.24354116 0.79988453 0.96089514]]\n"
          ],
          "name": "stdout"
        }
      ]
    },
    {
      "metadata": {
        "id": "LSR1mT1Dw0bF",
        "colab_type": "code",
        "outputId": "a8d6d495-ba5a-4038-ce60-516a4425c56c",
        "colab": {
          "base_uri": "https://localhost:8080/",
          "height": 274
        }
      },
      "cell_type": "code",
      "source": [
        "ax = sns.heatmap(uniform_data, cmap='YlGnBu')"
      ],
      "execution_count": 0,
      "outputs": [
        {
          "output_type": "display_data",
          "data": {
            "image/png": "[encoded data removed]",
            "text/plain": [
              "<Figure size 432x288 with 2 Axes>"
            ]
          },
          "metadata": {
            "tags": []
          }
        }
      ]
    },
    {
      "metadata": {
        "id": "dqkBo664xAw_",
        "colab_type": "code",
        "outputId": "e5cd2b8f-b7ab-40ed-c6b3-791fe7cd5b39",
        "colab": {
          "base_uri": "https://localhost:8080/",
          "height": 204
        }
      },
      "cell_type": "code",
      "source": [
        "!wget https://s3.amazonaws.com/thinkific-import/153034/3f9yaVLKTyUGmlBPcSOA_logo_long.png"
      ],
      "execution_count": 0,
      "outputs": [
        {
          "output_type": "stream",
          "text": [
            "--2019-02-18 05:27:53--  https://s3.amazonaws.com/thinkific-import/153034/3f9yaVLKTyUGmlBPcSOA_logo_long.png\n",
            "Resolving s3.amazonaws.com (s3.amazonaws.com)... 52.216.131.13\n",
            "Connecting to s3.amazonaws.com (s3.amazonaws.com)|52.216.131.13|:443... connected.\n",
            "HTTP request sent, awaiting response... 200 OK\n",
            "Length: 27958 (27K) [image/png]\n",
            "Saving to: ‘3f9yaVLKTyUGmlBPcSOA_logo_long.png’\n",
            "\n",
            "\r          3f9yaVLKT   0%[                    ]       0  --.-KB/s               \r3f9yaVLKTyUGmlBPcSO 100%[===================>]  27.30K  --.-KB/s    in 0.06s   \n",
            "\n",
            "2019-02-18 05:27:54 (422 KB/s) - ‘3f9yaVLKTyUGmlBPcSOA_logo_long.png’ saved [27958/27958]\n",
            "\n"
          ],
          "name": "stdout"
        }
      ]
    },
    {
      "metadata": {
        "id": "m_H9uoxlx23d",
        "colab_type": "code",
        "outputId": "ac3a0e10-1266-485f-d3e4-82824151ecea",
        "colab": {
          "base_uri": "https://localhost:8080/",
          "height": 85
        }
      },
      "cell_type": "code",
      "source": [
        "!ls -lrt"
      ],
      "execution_count": 0,
      "outputs": [
        {
          "output_type": "stream",
          "text": [
            "total 56\n",
            "-rw-r--r-- 1 root root 27958 Dec  9 13:38 3f9yaVLKTyUGmlBPcSOA_logo_long.png\n",
            "drwxr-xr-x 1 root root  4096 Feb 14 17:23 sample_data\n",
            "-rw-r--r-- 1 root root 14044 Feb 18 04:54 mobile_cleaned.csv\n"
          ],
          "name": "stdout"
        }
      ]
    },
    {
      "metadata": {
        "id": "YB4NTc9xx4Du",
        "colab_type": "code",
        "colab": {}
      },
      "cell_type": "code",
      "source": [
        "!mv 3f9yaVLKTyUGmlBPcSOA_logo_long.png onefourthlabs.png"
      ],
      "execution_count": 0,
      "outputs": []
    },
    {
      "metadata": {
        "id": "5m3cj4p1x-a3",
        "colab_type": "code",
        "colab": {}
      },
      "cell_type": "code",
      "source": [
        "import matplotlib.image as mpimg"
      ],
      "execution_count": 0,
      "outputs": []
    },
    {
      "metadata": {
        "id": "WbStamDhyagl",
        "colab_type": "code",
        "colab": {}
      },
      "cell_type": "code",
      "source": [
        "img = mpimg.imread('onefourthlabs.png')"
      ],
      "execution_count": 0,
      "outputs": []
    },
    {
      "metadata": {
        "id": "Nd2Db43-ykwl",
        "colab_type": "code",
        "colab": {}
      },
      "cell_type": "code",
      "source": [
        "print(img)"
      ],
      "execution_count": 0,
      "outputs": []
    },
    {
      "metadata": {
        "id": "h5xlUpOFynV3",
        "colab_type": "code",
        "outputId": "1e342208-fcf4-468b-e369-e521745186cd",
        "colab": {
          "base_uri": "https://localhost:8080/",
          "height": 141
        }
      },
      "cell_type": "code",
      "source": [
        "imgplot = plt.imshow(img)"
      ],
      "execution_count": 0,
      "outputs": [
        {
          "output_type": "display_data",
          "data": {
            "image/png": "[encoded data removed]",
            "text/plain": [
              "<Figure size 432x288 with 1 Axes>"
            ]
          },
          "metadata": {
            "tags": []
          }
        }
      ]
    },
    {
      "metadata": {
        "id": "kFup2jxtyumB",
        "colab_type": "code",
        "outputId": "68c94807-e976-41ef-bea2-af56acb3e214",
        "colab": {
          "base_uri": "https://localhost:8080/",
          "height": 204
        }
      },
      "cell_type": "code",
      "source": [
        "!wget https://logos-download.com/wp-content/uploads/2016/03/Citibank_logo.png"
      ],
      "execution_count": 0,
      "outputs": [
        {
          "output_type": "stream",
          "text": [
            "--2019-02-18 05:37:20--  https://logos-download.com/wp-content/uploads/2016/03/Citibank_logo.png\n",
            "Resolving logos-download.com (logos-download.com)... 104.28.28.34, 104.28.29.34, 2606:4700:30::681c:1c22, ...\n",
            "Connecting to logos-download.com (logos-download.com)|104.28.28.34|:443... connected.\n",
            "HTTP request sent, awaiting response... 200 OK\n",
            "Length: 170156 (166K) [image/png]\n",
            "Saving to: ‘Citibank_logo.png’\n",
            "\n",
            "\rCitibank_logo.png     0%[                    ]       0  --.-KB/s               \rCitibank_logo.png   100%[===================>] 166.17K  --.-KB/s    in 0.02s   \n",
            "\n",
            "2019-02-18 05:37:20 (10.1 MB/s) - ‘Citibank_logo.png’ saved [170156/170156]\n",
            "\n"
          ],
          "name": "stdout"
        }
      ]
    },
    {
      "metadata": {
        "id": "uofBA3NZzAme",
        "colab_type": "code",
        "outputId": "5536a33b-1716-4e71-b658-e062f06fd67a",
        "colab": {
          "base_uri": "https://localhost:8080/",
          "height": 102
        }
      },
      "cell_type": "code",
      "source": [
        "!ls -lrt"
      ],
      "execution_count": 0,
      "outputs": [
        {
          "output_type": "stream",
          "text": [
            "total 228\n",
            "-rw-r--r-- 1 root root 170156 Mar 13  2016 Citibank_logo.png\n",
            "-rw-r--r-- 1 root root  27958 Dec  9 13:38 onefourthlabs.png\n",
            "drwxr-xr-x 1 root root   4096 Feb 14 17:23 sample_data\n",
            "-rw-r--r-- 1 root root  14044 Feb 18 04:54 mobile_cleaned.csv\n"
          ],
          "name": "stdout"
        }
      ]
    },
    {
      "metadata": {
        "id": "Ft78fYAWzC6B",
        "colab_type": "code",
        "colab": {}
      },
      "cell_type": "code",
      "source": [
        "img = mpimg.imread('Citibank_logo.png')"
      ],
      "execution_count": 0,
      "outputs": []
    },
    {
      "metadata": {
        "id": "OLGpXPKHzMeS",
        "colab_type": "code",
        "colab": {}
      },
      "cell_type": "code",
      "source": [
        "print(img)"
      ],
      "execution_count": 0,
      "outputs": []
    },
    {
      "metadata": {
        "id": "1e3Z_J_6zP0N",
        "colab_type": "code",
        "outputId": "4ceadc79-7f59-41cf-fdb7-3f93b01a5c87",
        "colab": {
          "base_uri": "https://localhost:8080/",
          "height": 164
        }
      },
      "cell_type": "code",
      "source": [
        "plt.imshow(img)"
      ],
      "execution_count": 0,
      "outputs": [
        {
          "output_type": "execute_result",
          "data": {
            "text/plain": [
              "<matplotlib.image.AxesImage at 0x7fc440d24470>"
            ]
          },
          "metadata": {
            "tags": []
          },
          "execution_count": 74
        },
        {
          "output_type": "display_data",
          "data": {
            "image/png": "[encoded data removed]",
            "text/plain": [
              "<Figure size 432x288 with 1 Axes>"
            ]
          },
          "metadata": {
            "tags": []
          }
        }
      ]
    },
    {
      "metadata": {
        "id": "lppYd_X3zVE6",
        "colab_type": "code",
        "colab": {}
      },
      "cell_type": "code",
      "source": [
        ""
      ],
      "execution_count": 0,
      "outputs": []
    }
  ]
}